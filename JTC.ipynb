{
 "cells": [
  {
   "cell_type": "markdown",
   "metadata": {},
   "source": [
    "# JTC: Javascript Trust Chain JWT Header\n",
    "\n",
    "## Use Case\n",
    "When issuing x509 SPIFFE SVIDs… usually the workload receiving the SVID is at the end of a chain of certificates, only the root of which is going to necessarily be readily accessible.  You can imagine a series like:\n",
    "\n",
    "* Spire server root cert\n",
    "* K8s Cluster cert\n",
    "* Node cert\n",
    "* Workload cert\n",
    "\n",
    "JWTs are extremely usable tokens. They even offer options to sign with an X509 cert.  One would like to be able to use a JWT token signed with a Workload cert to assert identity to any receiving workload that trust’s the Spire server root’s trust domain (either directly or via federation of trust domains) even if its not running in the same K8s cluster or on the same Node. \n",
    "\n",
    "## Existing Options\n",
    "\n",
    "The options provided by JWS RFC 7515 offers a number of choices for header fields to convey information about the signing X509 certificate:\n",
    "\n",
    "* jwk - JWK encoded certificate or certificate chain\n",
    "* jku - a url from which to fetch JWK encoded certificate or certificate chain\n",
    "* x5c - JSON array containing the x509 encoded certificate chain\n",
    "* x5u - url from which to fetch x509 encoded certificate or certificate chain\n",
    "\n",
    "## Problems\n",
    "\n",
    "### jku/x5u\n",
    "jku/x5u urls cannot be easily used to send a receiver of a JWT token to retrieve the Workload cert, which may be inaccessible by the recipient by virtue of being in a different network domain.\n",
    "Additionally, url based retrieval can greatly increase latency of validating JWT tokens.\n",
    "\n",
    "### jwk/x5c\n",
    "jwk/x5c by presenting the full chain of the certificates used to sign the JWT tempts the recipient to validate the token without validating the certificate chain.  This is error prone.  TLS has similar issues, but the stock TLS libraries have all ‘failed safe’ for this problem.  JWT is much looser and thus more dangerous.\n",
    "\n",
    "## Proposed Solution\n",
    "Introduce a new JWT header field:\n",
    "\n",
    "jtc - JSON trust chain.  The ‘jtc’ header is a JSON array of JWTs of the form:\n",
    "\n",
    "```json\n",
    "{  // JWT header\n",
    "    alg: // algorithm used for signature\n",
    "    typ:\n",
    "    enc: // algorithm used for encryption\n",
    "    // pick one of x5t,x5u,jku but *not* x5c or jwk\n",
    "    // x5t - fingerprint or thumbnail of x509 key\n",
    "    // x5u - url of x509 key\n",
    "    // jku - url of jwk key\n",
    "}\n",
    "{  // JWT payload\n",
    "    x5e: // x509 certificate encrypted by key indicated in header\n",
    "}\n",
    "{ // JWT signature\n",
    "}\n",
    "```\n",
    "\n",
    "For our example of:\n",
    "* Spire server root cert\n",
    "* K8s cluster cert\n",
    "* Node cert\n",
    "* Workload cert\n",
    "\n",
    "Spire server root could provide the K8s cluster with a ‘jtc’ using x5t for its finger print.\n",
    "\n",
    "K8s cluster cert could provide the Node with a ‘jtc’ containing the Spire root’s ‘jtc’ with its own ‘jtc’ JWT appended.\n",
    "\n",
    "The Node could issue a JWT SVID to the Workload with a ‘jtc’ containing the K8s cluster’s ‘jtc’ with its own ‘jtc’ JWT appended.\n",
    "\n",
    "The workload can then add the ‘jtc’ to JWT tokens it’s signing with its workload X509 cert.  \n",
    "\n",
    "Any other workload that receives that JWT token that is either in the trust domain of the Spire server root, or federated with the Spire server root can then validly reconstruct the certificate needed to validate the JWT’s signature because:\n",
    "The receiving workload should have the Spire root’s public key for its fingerprint as a known trusted authority.  It can use that public key to decrypt the K8s cluster’s X509 public key from the Spire root’s ‘jtc’ JWT.\n",
    "\n",
    "Now the workload has the K8s cluster’s public key, and knows it can trust it.\n",
    "\n",
    "This can decrypt the Node’s X509 cert using the K8s cluster’s public key\n",
    "\n",
    "And then the Workloads X509 cert using the Node’s public key\n",
    "\n",
    "This solves the issue with jwk/x5c certificate chains because it is *not possible* for the receiving workload to verify the JWT *unless* it already has (and thus presumably trusts) a public key matching the x5t fingerprint of one of the JWTs in the ‘jtc’ chain or is able to retrieve one of them from the jku/x5u.\n",
    "\n",
    "Caching and performance improvements\n",
    "Once the receiving workload has processed the ‘jtc’ from the Workload, it now has and trusts the X509 public keys for the K8s cluster and the Node, and so  can begin unpacking any ‘jtc’s from that K8s Cluster or Node without having to re-decrypt their public keys from the chain.\n",
    "\n",
    "\n",
    "\n",
    "  \n",
    "\n",
    "\n",
    " \n",
    "\n",
    "\n"
   ]
  },
  {
   "cell_type": "code",
   "execution_count": 1,
   "metadata": {},
   "outputs": [],
   "source": [
    "{  // JWT header\n",
    "    alg: // algorithm used for signature\n",
    "    typ:\n",
    "    enc: // algorithm used for encryption\n",
    "    // pick one of x5t,x5u,jku but *not* x5c or jwk\n",
    "    // x5t - fingerprint or thumbnail of x509 key\n",
    "    // x5u - url of x509 key\n",
    "    // jku - url of jwk key\n",
    "}\n",
    "{  // JWT payload\n",
    "    x5e: // x509 certificate encrypted by key indicated in header\n",
    "}\n",
    "{ // JWT signature\n",
    "}\n"
   ]
  },
  {
   "cell_type": "code",
   "execution_count": 2,
   "metadata": {},
   "outputs": [],
   "source": [
    "import(\n",
    "    \"crypto/rand\"\n",
    "    \"crypto/rsa\"\n",
    "    \"crypto/sha256\"\n",
    "    \"crypto/x509\"\n",
    "    \"fmt\"\n",
    "    \"os\"\n",
    "    \n",
    "    \"github.com/fkautz/pubdecrypt\"\n",
    ")"
   ]
  },
  {
   "cell_type": "code",
   "execution_count": 3,
   "metadata": {},
   "outputs": [],
   "source": [
    "secretMessage := \"secret message\""
   ]
  },
  {
   "cell_type": "code",
   "execution_count": 4,
   "metadata": {},
   "outputs": [],
   "source": [
    "// The GenerateKey method takes in a reader that returns random bits, and\n",
    "// the number of bits\n",
    "privateKey, err := rsa.GenerateKey(rand.Reader, 2048)\n",
    "if err != nil {\n",
    "    panic(err)\n",
    "}\n",
    "\n",
    "// The public key is a part of the *rsa.PrivateKey struct\n",
    "publicKey := privateKey.PublicKey"
   ]
  },
  {
   "cell_type": "code",
   "execution_count": 5,
   "metadata": {},
   "outputs": [],
   "source": [
    "encryptedMessage, err := pubdecrypt.EncryptPKCS1v15(rand.Reader, privateKey, []byte(secretMessage))"
   ]
  },
  {
   "cell_type": "code",
   "execution_count": 6,
   "metadata": {},
   "outputs": [
    {
     "name": "stdout",
     "output_type": "stream",
     "text": [
      "[59 31 27 139 17 23 45 84 138 32 233 193 107 42 46 198 203 211 193 200 205 148 115 241 77 26 52 201 218 218 238 11 65 0 108 196 201 229 80 173 243 72 74 224 86 112 72 89 33 225 212 180 43 223 11 95 187 47 146 165 90 141 226 108 56 211 86 92 57 85 29 13 104 40 99 84 171 47 123 233 45 236 91 136 58 75 41 90 195 65 34 95 38 77 135 22 28 157 150 186 57 6 144 220 114 138 240 135 116 214 67 179 204 244 33 107 108 188 229 231 53 159 211 43 121 84 9 111 143 215 9 190 143 242 31 140 170 201 239 16 166 101 222 133 46 115 38 27 177 248 28 120 126 184 20 99 91 120 203 143 156 57 178 216 88 102 255 250 231 25 228 95 26 81 109 170 252 192 99 147 241 212 84 92 6 16 134 233 143 100 29 175 178 36 59 53 37 126 121 244 123 211 207 42 41 80 142 110 188 199 233 249 105 97 36 135 158 129 133 188 13 218 103 146 225 52 61 211 39 155 46 42 237 135 111 244 142 76 206 125 36 167 140 138 135 198 100 186 129 222 180 119 93 69 212 102]\n",
      "<nil>\n"
     ]
    },
    {
     "data": {
      "text/plain": [
       "6 <nil>"
      ]
     },
     "execution_count": 6,
     "metadata": {},
     "output_type": "execute_result"
    }
   ],
   "source": [
    "fmt.Println(encryptedMessage)\n",
    "fmt.Println(err)"
   ]
  },
  {
   "cell_type": "code",
   "execution_count": 7,
   "metadata": {},
   "outputs": [],
   "source": [
    "// Unsign verifies the message using a rsa-sha256 signature\n",
    "// func (r *rsaPublicKey) Unsign(message []byte, sig []byte) error {\n",
    "// \th := sha256.New()\n",
    "// \th.Write(message)\n",
    "// \td := h.Sum(nil)\n",
    "// \treturn rsa.VerifyPKCS1v15(r.PublicKey, crypto.SHA256, d, sig)\n",
    "// }\n",
    "// rsa.VerifyPKCS1v15(&privateKey.PublicKey, crypto.Hash(0), encryptedBytes, []byte(secretMessage))\n",
    "decryptedMessage, err := pubdecrypt.DecryptPKCS1v15(rand.Reader, &publicKey, encryptedMessage)"
   ]
  },
  {
   "cell_type": "code",
   "execution_count": 8,
   "metadata": {},
   "outputs": [
    {
     "name": "stdout",
     "output_type": "stream",
     "text": [
      "secret message\n",
      "<nil>\n"
     ]
    },
    {
     "data": {
      "text/plain": [
       "6 <nil>"
      ]
     },
     "execution_count": 8,
     "metadata": {},
     "output_type": "execute_result"
    }
   ],
   "source": [
    "fmt.Println(string(decryptedMessage))\n",
    "fmt.Println(err)"
   ]
  }
 ],
 "metadata": {
  "kernelspec": {
   "display_name": "Go",
   "language": "go",
   "name": "gophernotes"
  },
  "language_info": {
   "codemirror_mode": "",
   "file_extension": ".go",
   "mimetype": "",
   "name": "go",
   "nbconvert_exporter": "",
   "pygments_lexer": "",
   "version": "go1.13.14"
  }
 },
 "nbformat": 4,
 "nbformat_minor": 2
}
