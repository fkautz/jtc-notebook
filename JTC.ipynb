{
 "cells": [
  {
   "cell_type": "code",
   "execution_count": null,
   "metadata": {},
   "outputs": [],
   "source": [
    "import(\n",
    "    \"crypto/rand\"\n",
    "    \"crypto/rsa\"\n",
    "    \"crypto/sha256\"\n",
    "    \"fmt\"\n",
    ")"
   ]
  },
  {
   "cell_type": "code",
   "execution_count": null,
   "metadata": {},
   "outputs": [],
   "source": [
    "secretMessage := \"secret message\""
   ]
  },
  {
   "cell_type": "code",
   "execution_count": null,
   "metadata": {},
   "outputs": [],
   "source": [
    "// The GenerateKey method takes in a reader that returns random bits, and\n",
    "// the number of bits\n",
    "privateKey, err := rsa.GenerateKey(rand.Reader, 2048)\n",
    "if err != nil {\n",
    "\tpanic(err)\n",
    "}\n",
    "\n",
    "// The public key is a part of the *rsa.PrivateKey struct\n",
    "publicKey := privateKey.PublicKey"
   ]
  },
  {
   "cell_type": "code",
   "execution_count": null,
   "metadata": {},
   "outputs": [],
   "source": [
    "fmt.Println(secretMessage)"
   ]
  },
  {
   "cell_type": "code",
   "execution_count": null,
   "metadata": {},
   "outputs": [],
   "source": [
    "encryptedBytes, err := rsa.EncryptOAEP(\n",
    "\tsha256.New(),\n",
    "\trand.Reader,\n",
    "\t&publicKey,\n",
    "\t[]byte(\"super secret message\"),\n",
    "\tnil)\n",
    "if err != nil {\n",
    "\tpanic(err)\n",
    "}\n",
    "\n",
    "fmt.Println(\"encrypted bytes: \", encryptedBytes)"
   ]
  },
  {
   "cell_type": "code",
   "execution_count": null,
   "metadata": {},
   "outputs": [],
   "source": [
    "encryptedBytes, err := rsa.EncryptOAEP(\n",
    "\tsha256.New(),\n",
    "\trand.Reader,\n",
    "\t&privateKey,\n",
    "\t[]byte(\"super secret message\"),\n",
    "\tnil)\n",
    "if err != nil {\n",
    "\tpanic(err)\n",
    "}\n",
    "\n",
    "fmt.Println(\"encrypted bytes: \", encryptedBytes)"
   ]
  },
  {
   "cell_type": "code",
   "execution_count": null,
   "metadata": {},
   "outputs": [],
   "source": [
    "import \"crypto/x509\""
   ]
  },
  {
   "cell_type": "code",
   "execution_count": null,
   "metadata": {},
   "outputs": [],
   "source": [
    "privateKeyPkcs1 := x509.MarshalPKCS1PrivateKey(privateKey)"
   ]
  },
  {
   "cell_type": "code",
   "execution_count": null,
   "metadata": {},
   "outputs": [],
   "source": [
    "import \"encoding/pem\""
   ]
  },
  {
   "cell_type": "code",
   "execution_count": null,
   "metadata": {},
   "outputs": [],
   "source": [
    "privateKeyPem := pem.EncodeToMemory(\n",
    "    &pem.Block{\n",
    "        Type: \"RSA PUBLIC KEY\",\n",
    "        Bytes: privateKeyPkcs1,\n",
    "    },\n",
    ")"
   ]
  },
  {
   "cell_type": "code",
   "execution_count": null,
   "metadata": {},
   "outputs": [],
   "source": []
  },
  {
   "cell_type": "code",
   "execution_count": null,
   "metadata": {},
   "outputs": [],
   "source": [
    "publicKeyPkcs1 := x509.MarshalPKCS1PublicKey(&privateKey.PublicKey)"
   ]
  },
  {
   "cell_type": "code",
   "execution_count": null,
   "metadata": {},
   "outputs": [],
   "source": [
    "publicKeyPem := pem.EncodeToMemory(\n",
    "    &pem.Block{\n",
    "        Type: \"RSA PRIVATE KEY\",\n",
    "        Bytes: publicKeyPkcs1,\n",
    "    },\n",
    ")"
   ]
  },
  {
   "cell_type": "code",
   "execution_count": null,
   "metadata": {},
   "outputs": [],
   "source": [
    "string(publicKeyPem)"
   ]
  },
  {
   "cell_type": "code",
   "execution_count": null,
   "metadata": {},
   "outputs": [],
   "source": [
    "string(privateKeyPem) + string(publicKeyPem)"
   ]
  },
  {
   "cell_type": "code",
   "execution_count": null,
   "metadata": {},
   "outputs": [],
   "source": [
    "import \"bytes\"\n",
    "pk := &rsa.PrivateKey{)\n",
    "buf := bytes.NewBuffer(privateKeyPkcs1)\n",
    "rsa.DecryptPKCS1v15(buf, pk, 15)"
   ]
  },
  {
   "cell_type": "code",
   "execution_count": null,
   "metadata": {},
   "outputs": [],
   "source": [
    "x509.ParsePKCS1PublicKey(privateKeyPkcs1)"
   ]
  },
  {
   "cell_type": "code",
   "execution_count": null,
   "metadata": {},
   "outputs": [],
   "source": [
    "privateKey.D"
   ]
  },
  {
   "cell_type": "code",
   "execution_count": null,
   "metadata": {},
   "outputs": [],
   "source": [
    "import \"crypto\"\n",
    "data, sig := rsa.SignPKCS1v15(nil, privateKey, crypto.Hash(0), []byte(\"hello world\")) \n",
    "data\n",
    "string(data)"
   ]
  },
  {
   "cell_type": "code",
   "execution_count": null,
   "metadata": {},
   "outputs": [],
   "source": [
    "// Unsign verifies the message using a rsa-sha256 signature\n",
    "// func (r *rsaPublicKey) Unsign(message []byte, sig []byte) error {\n",
    "// \th := sha256.New()\n",
    "// \th.Write(message)\n",
    "// \td := h.Sum(nil)\n",
    "// \treturn rsa.VerifyPKCS1v15(r.PublicKey, crypto.SHA256, d, sig)\n",
    "// }\n",
    "rsa.VerifyPKCS1v15(&privateKey.PublicKey, crypto.Hash(0), data, nil)"
   ]
  },
  {
   "cell_type": "code",
   "execution_count": null,
   "metadata": {},
   "outputs": [],
   "source": [
    "// crypto/rand.Reader is a good source of entropy for blinding the RSA\n",
    "// operation.\n",
    "import \"os\"\n",
    "rng := rand.Reader\n",
    "\n",
    "message := []byte(\"message to be signed\")\n",
    "\n",
    "// Only small messages can be signed directly; thus the hash of a\n",
    "// message, rather than the message itself, is signed. This requires\n",
    "// that the hash function be collision resistant. SHA-256 is the\n",
    "// least-strong hash function that should be used for this at the time\n",
    "// of writing (2016).\n",
    "\n",
    "signature, err := rsa.SignPKCS1v15(nil, privateKey, crypto.Hash(0), message)\n",
    "if err != nil {\n",
    "    fmt.Fprintf(os.Stderr, \"Error from signing: %s\\n\", err)\n",
    "}\n",
    "\n",
    "fmt.Printf(\"Signature: %x\\n\", signature)\n",
    "\n"
   ]
  },
  {
   "cell_type": "code",
   "execution_count": null,
   "metadata": {},
   "outputs": [],
   "source": [
    "hasher := crypto.Hash(0)\n",
    "hasher.HashFunc()()\n",
    "err := rsa.VerifyPKCS1v15(&privateKey.PublicKey, crypto.SHA256, []byte(\"message to be signed\"), signature)\n",
    "if err != nil {\n",
    "    fmt.Fprintf(os.Stderr, \"Error from verification: %s\\n\", err)\n",
    "}\n",
    "\n",
    "// signature is a valid signature of message from the public key."
   ]
  },
  {
   "cell_type": "code",
   "execution_count": null,
   "metadata": {},
   "outputs": [],
   "source": []
  }
 ],
 "metadata": {
  "kernelspec": {
   "display_name": "Go",
   "language": "go",
   "name": "gophernotes"
  },
  "language_info": {
   "codemirror_mode": "",
   "file_extension": ".go",
   "mimetype": "",
   "name": "go",
   "nbconvert_exporter": "",
   "pygments_lexer": "",
   "version": "go1.11.4"
  }
 },
 "nbformat": 4,
 "nbformat_minor": 2
}
